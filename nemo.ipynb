{
  "nbformat": 4,
  "nbformat_minor": 0,
  "metadata": {
    "colab": {
      "name": "nemo.ipynb",
      "provenance": [],
      "authorship_tag": "ABX9TyPp6cmTvi4t00HgX/gmiY2d"
    },
    "kernelspec": {
      "name": "python3",
      "display_name": "Python 3"
    }
  },
  "cells": [
    {
      "cell_type": "code",
      "metadata": {
        "id": "QeQxNsuTkpOV"
      },
      "source": [
        "import cv2\r\n",
        "import matplotlib.pyplot as plt\r\n",
        "import numpy as np\r\n",
        "import os"
      ],
      "execution_count": 1,
      "outputs": []
    },
    {
      "cell_type": "code",
      "metadata": {
        "id": "2JpJ9Y_osajP"
      },
      "source": [
        "from google.colab import files\r\n",
        "files.upload()"
      ],
      "execution_count": null,
      "outputs": []
    },
    {
      "cell_type": "code",
      "metadata": {
        "id": "RbWgKnL4tGVL"
      },
      "source": [
        "images = []\r\n",
        "for img in os.listdir('/content/'):\r\n",
        "  if img in ['.config', 'sample_data']:\r\n",
        "    continue\r\n",
        "  nemo = cv2.imread(img)\r\n",
        "  nemo = cv2.cvtColor(nemo, cv2.COLOR_BGR2RGB)\r\n",
        "  images.append(nemo)\r\n",
        "  plt.imshow(nemo)\r\n",
        "  plt.show()\r\n"
      ],
      "execution_count": null,
      "outputs": []
    },
    {
      "cell_type": "code",
      "metadata": {
        "id": "2JnkWg_NxxMq"
      },
      "source": [
        "from matplotlib.colors import hsv_to_rgb\r\n",
        "lighto = (1, 190, 200)\r\n",
        "darko = (18, 255, 255)\r\n",
        "\r\n",
        "lo_square = np.full((10, 10, 3), lighto, dtype=np.uint8) / 255.0\r\n",
        "do_square = np.full((10, 10, 3), darko, dtype=np.uint8) / 255.0\r\n",
        "\r\n",
        "plt.subplot(1, 2, 1)\r\n",
        "plt.imshow(hsv_to_rgb(do_square))\r\n",
        "plt.subplot(1, 2, 2)\r\n",
        "plt.imshow(hsv_to_rgb(lo_square))\r\n",
        "plt.show()"
      ],
      "execution_count": null,
      "outputs": []
    },
    {
      "cell_type": "code",
      "metadata": {
        "id": "ny0lN_8dJTtf"
      },
      "source": [
        "mask = cv2.inRange(cv2.cvtColor(nemo, cv2.COLOR_RGB2HSV), lighto, darko)"
      ],
      "execution_count": 9,
      "outputs": []
    },
    {
      "cell_type": "code",
      "metadata": {
        "id": "9u6PPFGiVkVG"
      },
      "source": [
        "res = cv2.bitwise_and(nemo, nemo, mask=mask)\r\n",
        "plt.subplot(1, 2, 1)\r\n",
        "plt.imshow(mask, cmap=\"gray\")\r\n",
        "plt.subplot(1, 2, 2)\r\n",
        "plt.imshow(res)\r\n",
        "plt.show()"
      ],
      "execution_count": null,
      "outputs": []
    },
    {
      "cell_type": "code",
      "metadata": {
        "id": "AUdikpsaXCW0"
      },
      "source": [
        "lightw = (0, 0, 200)\r\n",
        "darkw = (145, 60, 255)\r\n",
        "\r\n",
        "lw_square = np.full((10, 10, 3), lightw, dtype=np.uint8) / 255.0\r\n",
        "dw_square = np.full((10, 10, 3), darkw, dtype=np.uint8) / 255.0\r\n",
        "\r\n",
        "plt.subplot(1,2,1)\r\n",
        "plt.imshow(hsv_to_rgb(lw_square))\r\n",
        "plt.subplot(1,2,2)\r\n",
        "plt.imshow(hsv_to_rgb(dw_square))\r\n",
        "plt.show()"
      ],
      "execution_count": null,
      "outputs": []
    },
    {
      "cell_type": "code",
      "metadata": {
        "id": "HzD2QgUpY1Yf"
      },
      "source": [
        "mask1 = cv2.inRange(cv2.cvtColor(nemo, cv2.COLOR_RGB2HSV), lightw, darkw)"
      ],
      "execution_count": 13,
      "outputs": []
    },
    {
      "cell_type": "code",
      "metadata": {
        "id": "OMmeem31ZUDE"
      },
      "source": [
        "res1 = cv2.bitwise_and(nemo, nemo, mask=mask1)\r\n",
        "plt.subplot(1, 2, 1)\r\n",
        "plt.imshow(mask1, cmap=\"gray\")\r\n",
        "plt.subplot(1, 2, 2)\r\n",
        "plt.imshow(res1)\r\n",
        "plt.show()"
      ],
      "execution_count": null,
      "outputs": []
    },
    {
      "cell_type": "code",
      "metadata": {
        "id": "epJ4O1y9ZXb2"
      },
      "source": [
        "fin = mask + mask1\r\n",
        "res2 = cv2.bitwise_and(nemo, nemo, mask=fin)\r\n",
        "plt.subplot(1, 2, 1)\r\n",
        "plt.imshow(fin, cmap=\"gray\")\r\n",
        "plt.subplot(1, 2, 2)\r\n",
        "blur = cv2.GaussianBlur(res2, (7,7), 0)\r\n",
        "plt.imshow(blur)\r\n",
        "plt.show()"
      ],
      "execution_count": null,
      "outputs": []
    },
    {
      "cell_type": "code",
      "metadata": {
        "id": "bFhPD4HCIAIS"
      },
      "source": [
        "def seg(image):\r\n",
        "  lighto = (1, 190, 200)\r\n",
        "  darko = (18, 255, 255)\r\n",
        "  masko = cv2.inRange(cv2.cvtColor(image, cv2.COLOR_RGB2HSV), lighto, darko)\r\n",
        "  reso = cv2.bitwise_and(image, image, mask=masko)\r\n",
        "  \r\n",
        "  lightw = (0, 0, 200)\r\n",
        "  darkw = (145, 60, 255)\r\n",
        "  maskw = cv2.inRange(cv2.cvtColor(image, cv2.COLOR_RGB2HSV), lightw, darkw)\r\n",
        "  resw = cv2.bitwise_and(image, image, mask=maskw)\r\n",
        " \r\n",
        "  fin = masko + maskw\r\n",
        "  res_final = cv2.bitwise_and(image, image, mask=fin)\r\n",
        "   \r\n",
        "  return reso, resw, res_final"
      ],
      "execution_count": 77,
      "outputs": []
    },
    {
      "cell_type": "code",
      "metadata": {
        "id": "PKYqvFGQJkSs"
      },
      "source": [
        "results = [seg(imag) for imag in images]\r\n",
        "  \r\n",
        "for i in range(6):\r\n",
        "  plt.subplot(1, 4, 1)\r\n",
        "  plt.imshow(images[i])\r\n",
        "  plt.subplot(1, 4, 2)\r\n",
        "  plt.imshow(results[i][0])\r\n",
        "  plt.subplot(1, 4, 3)\r\n",
        "  plt.imshow(results[i][1])\r\n",
        "  plt.subplot(1, 4, 4)\r\n",
        "  blur = cv2.GaussianBlur(results[i][2], (7,7), 0)\r\n",
        "  plt.imshow(blur)\r\n",
        "  plt.show()"
      ],
      "execution_count": null,
      "outputs": []
    },
    {
      "cell_type": "code",
      "metadata": {
        "id": "78UrtjDmUB1I"
      },
      "source": [
        "for i in range(6):\r\n",
        "  fig,a = plt.subplots(1, 4, figsize=(30,30))\r\n",
        "  a[0].imshow(images[i])\r\n",
        "  a[1].imshow(results[i][0])\r\n",
        "  a[2].imshow(results[i][1])\r\n",
        "  blur = cv2.GaussianBlur(results[i][2], (7,7), 0)\r\n",
        "  a[3].imshow(blur)\r\n",
        "  plt.show()"
      ],
      "execution_count": null,
      "outputs": []
    }
  ]
}